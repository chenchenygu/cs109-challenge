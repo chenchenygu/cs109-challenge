{
 "cells": [
  {
   "cell_type": "code",
   "execution_count": null,
   "id": "e05395c3-f284-4b48-abf7-05e98112dc3f",
   "metadata": {},
   "outputs": [],
   "source": [
    "\"\"\"\n",
    "Author: Chenchen Gu (cygu@stanford.edu)\n",
    "CS 109 Challenge, Winter 2022\n",
    "\"\"\""
   ]
  },
  {
   "cell_type": "code",
   "execution_count": 1,
   "id": "ced609a0-28d0-4933-bdb0-3ecf95ea1b9f",
   "metadata": {},
   "outputs": [],
   "source": [
    "import music21\n",
    "from tqdm import tqdm\n",
    "import numpy as np"
   ]
  },
  {
   "cell_type": "code",
   "execution_count": 2,
   "id": "556d2deb-785d-448f-a82b-374aab0fdd5f",
   "metadata": {},
   "outputs": [],
   "source": [
    "def transpose_part(part, key):\n",
    "    \"\"\"Transposes a part to the key of C major.\"\"\"\n",
    "    transpose_interval = music21.interval.Interval(key.tonic, music21.pitch.Pitch('C'))\n",
    "    return part.transpose(transpose_interval)"
   ]
  },
  {
   "cell_type": "code",
   "execution_count": 3,
   "id": "a8419a04-2550-4e04-b295-f767ea2dc126",
   "metadata": {},
   "outputs": [],
   "source": [
    "def count_midi_frequencies(music, midi_freq_list):\n",
    "    \"\"\"\n",
    "    Count the frequencies of transitions between MIDI pitches in `music`, and update \n",
    "    `midi_freq_list` with those counts. `midi_freq_list` should be a list of lists,\n",
    "    where `midi_freq_list` is of length 128, and so are all of the lists at each of\n",
    "    its indexes. Each index value represents the corresponding MIDI value.\n",
    "    \"\"\"\n",
    "    for part in music.parts():\n",
    "        key = part.recurse().getElementsByClass('Key')[0]\n",
    "        # Only analyze pieces in major mode\n",
    "        if key.mode != 'major':\n",
    "            continue\n",
    "\n",
    "        # Transpose all notes to the key of C\n",
    "        transpose_interval = music21.interval.Interval(key.tonic, music21.pitch.Pitch('C'))\n",
    "        prev_midi = 0\n",
    "\n",
    "        for elem in part.flatten().getElementsByClass(['Note', 'Rest', 'Key', 'KeySignature']):\n",
    "            if key.mode != 'major':\n",
    "                continue\n",
    "                \n",
    "            cur_midi = 0\n",
    "            if isinstance(elem, music21.key.Key):\n",
    "                key = elem\n",
    "            if isinstance(elem, music21.key.KeySignature):\n",
    "                key = elem.asKey()\n",
    "                \n",
    "            if isinstance(elem, music21.note.Note):\n",
    "                cur_midi = elem.transpose(transpose_interval).pitch.midi\n",
    "\n",
    "            if prev_midi != 0 and cur_midi != 0:\n",
    "                midi_freq_list[prev_midi][cur_midi] += 1\n",
    "\n",
    "            prev_midi = cur_midi\n",
    "    \n",
    "    return midi_freq_list"
   ]
  },
  {
   "cell_type": "code",
   "execution_count": 4,
   "id": "34909706-f60a-4d93-872f-68bb430318a9",
   "metadata": {},
   "outputs": [],
   "source": [
    "def count_rhythm_frequencies(music, rhythm_freq_dict):\n",
    "    \"\"\"\n",
    "    Count the frequencies of rhythmic durations, given the sub-beat that it occurs on.\n",
    "    The sub-beat is the decimal part of the beat (e.g., sub-beat of 2.5 is 0.5).\n",
    "    rhythm_freq_dict is a dictionary whose keys are sub-beats and whoses values are\n",
    "    nested dict. Each nested dict maps rhythmic durations, in quarter lengths, to frequency\n",
    "    counts.\n",
    "    \"\"\"\n",
    "    for part in music.parts:\n",
    "        for note in part.flatten().notes:\n",
    "            sub_beat = note.beat % 1.0\n",
    "            length = note.quarterLength\n",
    "            \n",
    "            # Remove tuplets because floating point (1/3) will likely lead to issues\n",
    "            if sub_beat % 0.25 != 0 or length % 0.25 != 0:\n",
    "                continue\n",
    "            \n",
    "            if sub_beat not in rhythm_freq_dict:\n",
    "                rhythm_freq_dict[sub_beat] = {}\n",
    "                \n",
    "            if length not in rhythm_freq_dict[sub_beat]:\n",
    "                rhythm_freq_dict[sub_beat][length] = 0\n",
    "                \n",
    "            rhythm_freq_dict[sub_beat][length] += 1\n",
    "    \n",
    "    return rhythm_freq_dict"
   ]
  },
  {
   "cell_type": "code",
   "execution_count": 5,
   "id": "c9f4ddfc-4891-4d4b-afcb-a24c657b2dca",
   "metadata": {},
   "outputs": [],
   "source": [
    "midi_freq_list = [ ([0] * 128) for _ in range(128) ]\n",
    "rhythm_freq_dict = {}"
   ]
  },
  {
   "cell_type": "code",
   "execution_count": null,
   "id": "5027e598-e929-44c7-bd09-909e7cf5e466",
   "metadata": {},
   "outputs": [],
   "source": [
    "with open(\"kernscores_urls.txt\") as file:\n",
    "    url_list = file.read().splitlines()\n",
    "\n",
    "for url in tqdm(url_list):\n",
    "    try:\n",
    "        music = music21.converter.parse(url)\n",
    "    except KeyboardInterrupt:\n",
    "        print(\"Keyboard interrupt\")\n",
    "        break\n",
    "    except:\n",
    "        print(\"Invalid url:\", url)\n",
    "        continue\n",
    "    count_midi_frequencies(music, midi_freq_list)\n",
    "    count_rhythm_frequencies(music, rhythm_freq_dict)"
   ]
  },
  {
   "cell_type": "code",
   "execution_count": null,
   "id": "9201fcaa-404e-4b7a-b60e-0a7896f10d00",
   "metadata": {},
   "outputs": [],
   "source": [
    "print(rhythm_freq_dict)"
   ]
  },
  {
   "cell_type": "code",
   "execution_count": null,
   "id": "71417a8e-e2db-4101-85b2-7181a45fe78b",
   "metadata": {},
   "outputs": [],
   "source": [
    "import json\n",
    "\n",
    "# Save frequencies data to json file\n",
    "with open('../data/midi_frequencies.json', 'w') as file:\n",
    "    #json.dump(midi_freq_list, file)\n",
    "\n",
    "with open('../data/rhythm_frequencies.json', 'w') as file:\n",
    "    #json.dump(rhythm_freq_dict, file)"
   ]
  }
 ],
 "metadata": {
  "kernelspec": {
   "display_name": "Python 3 (ipykernel)",
   "language": "python",
   "name": "python3"
  },
  "language_info": {
   "codemirror_mode": {
    "name": "ipython",
    "version": 3
   },
   "file_extension": ".py",
   "mimetype": "text/x-python",
   "name": "python",
   "nbconvert_exporter": "python",
   "pygments_lexer": "ipython3",
   "version": "3.10.1"
  }
 },
 "nbformat": 4,
 "nbformat_minor": 5
}
