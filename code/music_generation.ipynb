{
 "cells": [
  {
   "cell_type": "code",
   "execution_count": null,
   "id": "d97e2e01-bd02-4cd7-8691-096f76ab2d25",
   "metadata": {},
   "outputs": [],
   "source": [
    "import music21\n",
    "from tqdm import tqdm\n",
    "import numpy as np"
   ]
  },
  {
   "cell_type": "code",
   "execution_count": null,
   "id": "3c4e99b4-fee2-4d8b-9a00-cb9bcbacde84",
   "metadata": {},
   "outputs": [],
   "source": [
    "import json\n",
    "\n",
    "with open('../data/midi_frequencies.json') as file:\n",
    "    midi_freq = json.load(file)\n",
    "    \n",
    "with open('../data/rhythm_frequencies.json') as file:\n",
    "    rhythm_freq = json.load(file)"
   ]
  },
  {
   "cell_type": "code",
   "execution_count": null,
   "id": "cb503bda-c44b-4be7-80a0-0b09423cd57d",
   "metadata": {},
   "outputs": [],
   "source": [
    "def convert_rhythm_freq_to_prob(rhythm_freq):\n",
    "    \"\"\"\n",
    "    Convert rhythm frequencies to probabilities. The returned rhythm_prob will be a\n",
    "    dict whose keys are sub-beats, and whose values are lists of 2 lists. The first\n",
    "    list contains the durations (rhythms), and the second list contains the corresponding\n",
    "    probabilities. Two lists are necessary in order to later use np.random.choice().\n",
    "    \"\"\"\n",
    "    rhythm_prob = {}\n",
    "    for beat, durations in rhythm_freq.items():\n",
    "        duration_list = []\n",
    "        freq_list = []\n",
    "        \n",
    "        for duration, freq in durations.items():\n",
    "            duration_list.append(float(duration))\n",
    "            freq_list.append(freq)\n",
    "            \n",
    "        prob_list = (freq_list / np.sum(freq_list)).tolist()\n",
    "        rhythm_prob[float(beat)] = [duration_list, prob_list]\n",
    "        \n",
    "    return rhythm_prob"
   ]
  },
  {
   "cell_type": "code",
   "execution_count": null,
   "id": "c905b03a-6d7c-434f-b25c-4401b82fd60d",
   "metadata": {},
   "outputs": [],
   "source": [
    "def convert_midi_freq_to_prob(midi_freq, lowest_midi, highest_midi):    \n",
    "    \"\"\"\n",
    "    Convert MIDI frequencies to probabilities. The returned midi_prob will be a\n",
    "    dict whose keys are the previous MIDI note, and whose values are lists of 2 lists.\n",
    "    The first list contains the next MIDI notes, and the second list contains the corresponding\n",
    "    probabilities. Two lists are necessary in order to later use np.random.choice().\n",
    "    \"\"\"\n",
    "    midi_prob = {}\n",
    "    for prev_midi in range(lowest_midi, highest_midi + 1):\n",
    "        midi_list = []\n",
    "        freq_list = []\n",
    "        \n",
    "        for next_midi in range(lowest_midi, highest_midi + 1):\n",
    "            midi_list.append(next_midi)\n",
    "            freq_list.append(midi_freq[prev_midi][next_midi])\n",
    "        \n",
    "        prob_list = (freq_list / np.sum(freq_list)).tolist()\n",
    "        midi_prob[prev_midi] = [midi_list, prob_list]\n",
    "    \n",
    "    return midi_prob"
   ]
  },
  {
   "cell_type": "code",
   "execution_count": null,
   "id": "7dfe538b-308b-4ea2-9b37-695f8cb93a0b",
   "metadata": {},
   "outputs": [],
   "source": [
    "# Range of notes the final generated piece will contain\n",
    "violin_lowest_pitch = music21.pitch.Pitch('G3')\n",
    "violin_highest_pitch = music21.pitch.Pitch('D6')\n",
    "\n",
    "def get_midi_prob_for_key(midi_freq, key):\n",
    "    \"\"\"\n",
    "    Gets the MIDI probability dict for a given key, to be used in the generate_music() function.\n",
    "    This function sets the lowest and highest pitches so that once the piece is transposed to the\n",
    "    given key, the transposed lowest and highest notes will be in accordance with the violin range.\n",
    "    \"\"\"\n",
    "    tp_interval = music21.interval.Interval(music21.pitch.Pitch('C5'),\n",
    "                                                   music21.pitch.Pitch(key.tonic, octave=5)).reverse()\n",
    "    lowest_pitch = violin_lowest_pitch.transpose(tp_interval)\n",
    "    highest_pitch = violin_highest_pitch.transpose(tp_interval)\n",
    "    return convert_midi_freq_to_prob(midi_freq, lowest_pitch.midi, highest_pitch.midi)"
   ]
  },
  {
   "cell_type": "code",
   "execution_count": null,
   "id": "6d928e7a-f7cd-4873-8c5a-a1bb36f1a72a",
   "metadata": {},
   "outputs": [],
   "source": [
    "def generate_music(midi_prob, rhythm_prob, piece_duration, key=music21.key.Key('C'), title=\"Composition\"):\n",
    "    \"\"\"\n",
    "    Generate a composition using the MIDI and rhythm probabilities given, and in the key given. The piece\n",
    "    will be in the range for a violin to play.\n",
    "    \"\"\"\n",
    "    piece = music21.stream.Stream()\n",
    "    piece.insert(0, music21.key.Key('C'))\n",
    "    piece.insert(0, music21.meter.TimeSignature('4/4'))\n",
    "    \n",
    "    piece.insert(0, music21.metadata.Metadata())\n",
    "    piece.metadata.title = title\n",
    "    piece.metadata.composer = \"Chenchen Gu (probabilistically generated)\"\n",
    "    \n",
    "    prev_note = music21.note.Note('C5', quarterLength=1)\n",
    "    piece.append(prev_note)\n",
    "    cur_beat = prev_note.quarterLength\n",
    "    \n",
    "    while cur_beat < piece_duration:\n",
    "        # Get pitch\n",
    "        prev_midi = prev_note.pitch.midi\n",
    "        cur_midi = np.random.choice(midi_prob[prev_midi][0], p=midi_prob[prev_midi][1])\n",
    "        cur_note = music21.note.Note(midi=cur_midi)\n",
    "        piece.append(cur_note)\n",
    "        \n",
    "        # Get duration/rhythm\n",
    "        cur_sub_beat = cur_beat % 1.0\n",
    "        cur_duration = np.random.choice(rhythm_prob[cur_sub_beat][0], p=rhythm_prob[cur_sub_beat][1])\n",
    "        cur_note.quarterLength = cur_duration\n",
    "        cur_beat += cur_duration\n",
    "    \n",
    "    # Transpose piece to given key\n",
    "    transpose_interval = music21.interval.Interval(music21.pitch.Pitch('C5'),\n",
    "                                                   music21.pitch.Pitch(key.tonic, octave=5))\n",
    "    piece.transpose(transpose_interval, inPlace=True)\n",
    "    \n",
    "    # Simplify notes to enharmonics in key signature to reduce accidentals\n",
    "    for note in piece.recurse().notes:\n",
    "        note.pitches = music21.pitch.simplifyMultipleEnharmonics(note.pitches, keyContext=key)\n",
    "    \n",
    "    return piece"
   ]
  },
  {
   "cell_type": "code",
   "execution_count": null,
   "id": "93ab1d6b-05d5-44c7-957c-cbd750b938d7",
   "metadata": {},
   "outputs": [],
   "source": [
    "# Rhythm probabilities only need to be computed once\n",
    "rhythm_prob = convert_rhythm_freq_to_prob(rhythm_freq)"
   ]
  },
  {
   "cell_type": "code",
   "execution_count": null,
   "id": "f81394f7-6477-42a0-94e3-f5fad49f6178",
   "metadata": {},
   "outputs": [],
   "source": [
    "# MIDI pitch probabilities need to be recomputed every time a new key is used\n",
    "piece_key = music21.key.Key('E')\n",
    "midi_prob = get_midi_prob_for_key(midi_freq, piece_key)"
   ]
  },
  {
   "cell_type": "code",
   "execution_count": null,
   "id": "7fc85e33-32a1-48ef-ba83-edbdef9e97b8",
   "metadata": {},
   "outputs": [],
   "source": [
    "piece = generate_music(midi_prob, rhythm_prob, 60, piece_key, \"Example composition\")\n",
    "piece.show()"
   ]
  },
  {
   "cell_type": "code",
   "execution_count": null,
   "id": "51518f39-a051-4a47-9ea4-0bab56086d1f",
   "metadata": {},
   "outputs": [],
   "source": [
    "keys = ['A-', 'A', 'B-', 'C', 'D', 'E-', 'E', 'F', 'G']\n",
    "piece_len = 60\n",
    "\n",
    "for i in tqdm(range(1, 21)):\n",
    "    cur_key = music21.key.Key(np.random.choice(keys))\n",
    "    piece = generate_music(midi_prob, rhythm_prob, piece_len, cur_key, f\"Composition {i}\")\n",
    "    piece.write('musicxml', fp=f'../generated_music/composition_{i:02}.xml')\n",
    "    piece.write('musicxml.pdf', fp=f'../generated_music/composition_{i:02}.pdf')"
   ]
  }
 ],
 "metadata": {
  "kernelspec": {
   "display_name": "Python 3 (ipykernel)",
   "language": "python",
   "name": "python3"
  },
  "language_info": {
   "codemirror_mode": {
    "name": "ipython",
    "version": 3
   },
   "file_extension": ".py",
   "mimetype": "text/x-python",
   "name": "python",
   "nbconvert_exporter": "python",
   "pygments_lexer": "ipython3",
   "version": "3.10.1"
  }
 },
 "nbformat": 4,
 "nbformat_minor": 5
}
