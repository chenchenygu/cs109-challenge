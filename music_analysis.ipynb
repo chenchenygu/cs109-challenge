{
 "cells": [
  {
   "cell_type": "code",
   "execution_count": 156,
   "id": "ced609a0-28d0-4933-bdb0-3ecf95ea1b9f",
   "metadata": {},
   "outputs": [],
   "source": [
    "import music21\n",
    "from tqdm import tqdm"
   ]
  },
  {
   "cell_type": "code",
   "execution_count": 59,
   "id": "556d2deb-785d-448f-a82b-374aab0fdd5f",
   "metadata": {},
   "outputs": [],
   "source": [
    "def transpose_part(part, key):\n",
    "    \"\"\"Transposes a part to the key of C major.\"\"\"\n",
    "    transpose_interval = music21.interval.Interval(key.tonic, music21.pitch.Pitch('C'))\n",
    "    return part.transpose(transpose_interval)"
   ]
  },
  {
   "cell_type": "code",
   "execution_count": null,
   "id": "c6053385-d586-4e87-9d39-d6ab4d4d94cf",
   "metadata": {},
   "outputs": [],
   "source": [
    "url = \"https://kern.humdrum.org/cgi-bin/ksdata?location=musedata/mozart/quartet&file=k168-01.krn&format=kern\"\n",
    "music = music21.converter.parse(url)\n",
    "freq_list = [ ([0] * 128) for _ in range(128) ]\n",
    "\n",
    "for part in music.parts():\n",
    "    key = part.recurse().getElementsByClass('Key')[0]\n",
    "        \n",
    "    transpose_interval = music21.interval.Interval(key.tonic, music21.pitch.Pitch('C'))\n",
    "    prev_midi = 0\n",
    "    \n",
    "    for elem in part.flatten():\n",
    "        cur_midi = 0\n",
    "        if isinstance(elem, music21.key.Key):\n",
    "            key = elem\n",
    "        if isinstance(elem, music21.note.Note):\n",
    "            cur_midi = elem.transpose(transpose_interval).pitch.midi\n",
    "        \n",
    "        if prev_midi != 0 and cur_midi != 0:\n",
    "            freq_list[prev_midi][cur_midi] += 1\n",
    "            \n",
    "        prev_midi = cur_midi\n",
    "        \n",
    "    print(freq_list[70])\n",
    "            \n",
    "            \n",
    "    print(key)"
   ]
  },
  {
   "cell_type": "code",
   "execution_count": 127,
   "id": "a8419a04-2550-4e04-b295-f767ea2dc126",
   "metadata": {},
   "outputs": [],
   "source": [
    "def count_midi_frequencies(music, midi_freq_list):\n",
    "    \"\"\"\n",
    "    Count the frequencies of transitions between MIDI pitches in `music`, and update \n",
    "    `midi_freq_list` with those counts. `midi_freq_list` should be a list of lists,\n",
    "    where `midi_freq_list` is of length 128, and so are all of the lists at each of\n",
    "    its indexes. Each index value represents the corresponding MIDI value.\n",
    "    \"\"\"\n",
    "    for part in music.parts():\n",
    "        key = part.recurse().getElementsByClass('Key')[0]\n",
    "\n",
    "        transpose_interval = music21.interval.Interval(key.tonic, music21.pitch.Pitch('C'))\n",
    "        prev_midi = 0\n",
    "\n",
    "        for elem in part.flatten():\n",
    "            cur_midi = 0\n",
    "            if isinstance(elem, music21.key.Key):\n",
    "                key = elem\n",
    "            if isinstance(elem, music21.note.Note):\n",
    "                cur_midi = elem.transpose(transpose_interval).pitch.midi\n",
    "\n",
    "            if prev_midi != 0 and cur_midi != 0:\n",
    "                midi_freq_list[prev_midi][cur_midi] += 1\n",
    "\n",
    "            prev_midi = cur_midi\n",
    "    \n",
    "    return midi_freq_list"
   ]
  },
  {
   "cell_type": "code",
   "execution_count": 159,
   "id": "34909706-f60a-4d93-872f-68bb430318a9",
   "metadata": {},
   "outputs": [],
   "source": [
    "def count_rhythm_frequencies(music, rhythm_freq_dict):\n",
    "    for part in music.parts:\n",
    "        for note in part.flatten().notes:\n",
    "            sub_beat = note.beat % 1.0\n",
    "            if sub_beat not in rhythm_freq_dict:\n",
    "                rhythm_freq_dict[sub_beat] = {}\n",
    "            \n",
    "            length = float(note.quarterLength)\n",
    "            if length not in rhythm_freq_dict[sub_beat]:\n",
    "                rhythm_freq_dict[sub_beat][length] = 0\n",
    "            rhythm_freq_dict[sub_beat][length] += 1\n",
    "    \n",
    "    return rhythm_freq_dict"
   ]
  },
  {
   "cell_type": "code",
   "execution_count": 160,
   "id": "3b242b5b-9209-497d-a115-ffc6ab97d6e2",
   "metadata": {},
   "outputs": [
    {
     "name": "stderr",
     "output_type": "stream",
     "text": [
      "100%|████████████████████████████████████████████████████████████████████████████| 4/4 [00:16<00:00,  4.10s/it]\n"
     ]
    }
   ],
   "source": [
    "midi_freq_list = [ ([0] * 128) for _ in range(128) ]\n",
    "rhythm_freq_dict = {}\n",
    "\n",
    "with open(\"kernscores_urls.txt\") as file:\n",
    "    url_list = file.read().splitlines()\n",
    "\n",
    "for url in tqdm(url_list):\n",
    "    music = music21.converter.parse(url)\n",
    "    # count_midi_frequencies(music, midi_freq_list)\n",
    "    count_rhythm_frequencies(music, rhythm_freq_dict)"
   ]
  },
  {
   "cell_type": "code",
   "execution_count": 161,
   "id": "9201fcaa-404e-4b7a-b60e-0a7896f10d00",
   "metadata": {},
   "outputs": [
    {
     "name": "stdout",
     "output_type": "stream",
     "text": [
      "{0.0: {1.0: 1114, 1.5: 40, 0.5: 905, 0.25: 183, 0.75: 11, 3.0: 38, 0.16666666666666666: 10, 0.125: 4, 2.0: 252, 4.0: 32}, 0.5: {0.5: 895, 1.0: 11, 0.25: 250, 0.16666666666666666: 12, 0.125: 3, 0.08333333333333333: 6}, 0.75: {0.25: 252, 0.5: 4, 0.125: 12, 0.08333333333333333: 6}, 0.25: {0.25: 204, 0.5: 6, 0.125: 4}, 0.16666666666666674: {0.16666666666666666: 6}, 0.33333333333333326: {0.16666666666666666: 6}, 0.6666666666666667: {0.16666666666666666: 6, 0.08333333333333333: 6}, 0.8333333333333333: {0.16666666666666666: 6, 0.08333333333333333: 6}, 0.16666666666666652: {0.16666666666666666: 6}, 0.3333333333333335: {0.16666666666666666: 6}, 0.6666666666666665: {0.16666666666666666: 6}, 0.8333333333333335: {0.16666666666666666: 6}, 0.125: {0.125: 4}, 0.375: {0.125: 4}, 0.625: {0.125: 3}, 0.875: {0.125: 12}, 0.5833333333333333: {0.08333333333333333: 6}, 0.9166666666666667: {0.08333333333333333: 6}}\n"
     ]
    }
   ],
   "source": [
    "print(rhythm_freq_dict)"
   ]
  },
  {
   "cell_type": "code",
   "execution_count": null,
   "id": "71417a8e-e2db-4101-85b2-7181a45fe78b",
   "metadata": {},
   "outputs": [],
   "source": []
  }
 ],
 "metadata": {
  "kernelspec": {
   "display_name": "Python 3 (ipykernel)",
   "language": "python",
   "name": "python3"
  },
  "language_info": {
   "codemirror_mode": {
    "name": "ipython",
    "version": 3
   },
   "file_extension": ".py",
   "mimetype": "text/x-python",
   "name": "python",
   "nbconvert_exporter": "python",
   "pygments_lexer": "ipython3",
   "version": "3.10.1"
  }
 },
 "nbformat": 4,
 "nbformat_minor": 5
}
